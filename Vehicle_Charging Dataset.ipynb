{
  "nbformat": 4,
  "nbformat_minor": 0,
  "metadata": {
    "colab": {
      "provenance": []
    },
    "kernelspec": {
      "name": "ir",
      "display_name": "R"
    },
    "language_info": {
      "name": "R"
    }
  },
  "cells": [
    {
      "cell_type": "markdown",
      "source": [
        "# Electric Vehicle Charging Dataset\n",
        "\n",
        "&nbsp;\n",
        "\n",
        "#### INTERNATIONAL UNIVERSITY OF SARAJEVO\n",
        "\n",
        "#### CS540 Data Analythical Problem Solving\n",
        "\n",
        "#### Mirza Selimovic\n",
        "\n",
        "\n",
        "&nbsp;\n",
        "&nbsp;\n",
        "&nbsp;\n",
        "---\n",
        "\n",
        "\n",
        "#### Problem statement\n",
        "\n",
        "Optimize the placement and utilization of EV charging stations. Apply R for spatial analysis and demand forecasting to enhance infrastructure planning.\n",
        "\n",
        "Link for the dataset : [Electric Vehicle Charging Dataset (kaggle.com) ](https://www.kaggle.com/datasets/michaelbryantds/electric-vehicle-charging-dataset)\n",
        "\n",
        "\n",
        "This dataset contains information from 3,395 high resolution electric vehicle charging sessions. The data contains sessions from 85 EV drivers with repeat usage at 105 stations across 25 sites at a workplace charging program. The workplace locations include facilities such as research and innovation centers, manufacturing, testing facilities and office headquarters for a firm participating in the U.S. Department of Energy (DOE) workplace charging challenge. The data is in a human and machine readable *.CSV format. The resolution of the data is to the nearest second, which is the same resolution as used in the analysis of the paper. It is directly importable into free software.\n",
        "\n"
      ],
      "metadata": {
        "id": "UTQdM1xPTum2"
      }
    },
    {
      "cell_type": "markdown",
      "source": [
        "## Import the packages\n",
        "\n",
        "Import following packages:\n",
        "\n",
        "\n",
        "*   dplyr\n",
        "*   ggplot2\n",
        "*   tidyverse: includes readr for zip file handling\n",
        "*   data.table\n",
        "\n"
      ],
      "metadata": {
        "id": "7Xavf88YTEVp"
      }
    },
    {
      "cell_type": "code",
      "source": [
        "# Load libraries\n",
        "library(dplyr)\n",
        "library(ggplot2)\n",
        "library(tidyverse)  # Includes readr for zip file handling\n",
        "library(data.table)\n",
        "\n"
      ],
      "metadata": {
        "id": "TRgRI7CuT3Ip"
      },
      "execution_count": 76,
      "outputs": []
    },
    {
      "cell_type": "markdown",
      "source": [
        "Load the data set from the zip file. Export  zip and load the CSV file.\n",
        "\n"
      ],
      "metadata": {
        "id": "IXgTQ2DGlmfS"
      }
    },
    {
      "cell_type": "code",
      "source": [
        "# Set the path to your zip file (replace with your actual path)\n",
        "zip_file_path <- \"sample_data/ElectricVehicleChargingDataset.zip\"\n",
        "\n",
        "# Extract data from zip file (assuming a single CSV file inside)\n",
        "temp_dir <- tempdir()  # Create a temporary directory\n",
        "unzip(zip_file_path, exdir = temp_dir)  # Extract zip file contents\n",
        "\n",
        "# Assuming the extracted file is named \"data.csv\" (modify if different)\n",
        "data_path <- paste0(temp_dir, \"/station_data_dataverse.csv\")\n",
        "data <- read_csv(data_path)  # Read the extracted data\n"
      ],
      "metadata": {
        "colab": {
          "base_uri": "https://localhost:8080/"
        },
        "id": "S-RxC_XbEKbz",
        "outputId": "188d6773-289f-4843-8f23-7e957a56d2ba"
      },
      "execution_count": 77,
      "outputs": [
        {
          "output_type": "stream",
          "name": "stderr",
          "text": [
            "\u001b[1mRows: \u001b[22m\u001b[34m3395\u001b[39m \u001b[1mColumns: \u001b[22m\u001b[34m24\u001b[39m\n",
            "\u001b[36m──\u001b[39m \u001b[1mColumn specification\u001b[22m \u001b[36m────────────────────────────────────────────────────────\u001b[39m\n",
            "\u001b[1mDelimiter:\u001b[22m \",\"\n",
            "\u001b[31mchr\u001b[39m   (2): weekday, platform\n",
            "\u001b[32mdbl\u001b[39m  (20): sessionId, kwhTotal, dollars, startTime, endTime, chargeTimeHrs, ...\n",
            "\u001b[34mdttm\u001b[39m  (2): created, ended\n",
            "\n",
            "\u001b[36mℹ\u001b[39m Use `spec()` to retrieve the full column specification for this data.\n",
            "\u001b[36mℹ\u001b[39m Specify the column types or set `show_col_types = FALSE` to quiet this message.\n"
          ]
        }
      ]
    },
    {
      "cell_type": "markdown",
      "source": [
        "##Explore Data\n",
        "Explore the data by listing first 5 rows, get number of rows and columns. Provide the column names.\n"
      ],
      "metadata": {
        "id": "6c_lrMjJKaIf"
      }
    },
    {
      "cell_type": "code",
      "source": [
        "data %>%\n",
        "  slice_head(n = 5)\n",
        "\n",
        "# Get number of columns\n",
        "num_columns <- ncol(data)  # ncol for number of columns\n",
        "\n",
        "# Get number of rows\n",
        "num_rows <- nrow(data)  # nrow for number of rows\n",
        "\n",
        "# Initialize an empty string to store the numbered list\n",
        "numbered_list <- \"\"\n",
        "\n",
        "column_names <- names(data)\n",
        "\n",
        "# Loop through column names and add numbering\n",
        "for (i in 1:length(column_names)) {\n",
        "  numbered_list <- paste(numbered_list, i, \". \", column_names[i], sep = \"\")\n",
        "  numbered_list <- paste(numbered_list, \"\\n\", sep = \"\")  # Add newline for each item\n",
        "}\n",
        "\n",
        "# Print results\n",
        "cat(\"Number of Columns:\", num_columns, \"\\n\")\n",
        "cat(\"Number of Rows:\", num_rows, \"\\n\")\n",
        "cat(\"List of Columns:\\n\",numbered_list)\n",
        "\n",
        "\n"
      ],
      "metadata": {
        "colab": {
          "base_uri": "https://localhost:8080/",
          "height": 724
        },
        "id": "sKZ1rqaSGGra",
        "outputId": "da21da55-437e-48b1-fd6d-1214610a37b0"
      },
      "execution_count": 78,
      "outputs": [
        {
          "output_type": "display_data",
          "data": {
            "text/html": [
              "<table class=\"dataframe\">\n",
              "<caption>A spec_tbl_df: 5 × 24</caption>\n",
              "<thead>\n",
              "\t<tr><th scope=col>sessionId</th><th scope=col>kwhTotal</th><th scope=col>dollars</th><th scope=col>created</th><th scope=col>ended</th><th scope=col>startTime</th><th scope=col>endTime</th><th scope=col>chargeTimeHrs</th><th scope=col>weekday</th><th scope=col>platform</th><th scope=col>⋯</th><th scope=col>managerVehicle</th><th scope=col>facilityType</th><th scope=col>Mon</th><th scope=col>Tues</th><th scope=col>Wed</th><th scope=col>Thurs</th><th scope=col>Fri</th><th scope=col>Sat</th><th scope=col>Sun</th><th scope=col>reportedZip</th></tr>\n",
              "\t<tr><th scope=col>&lt;dbl&gt;</th><th scope=col>&lt;dbl&gt;</th><th scope=col>&lt;dbl&gt;</th><th scope=col>&lt;dttm&gt;</th><th scope=col>&lt;dttm&gt;</th><th scope=col>&lt;dbl&gt;</th><th scope=col>&lt;dbl&gt;</th><th scope=col>&lt;dbl&gt;</th><th scope=col>&lt;chr&gt;</th><th scope=col>&lt;chr&gt;</th><th scope=col>⋯</th><th scope=col>&lt;dbl&gt;</th><th scope=col>&lt;dbl&gt;</th><th scope=col>&lt;dbl&gt;</th><th scope=col>&lt;dbl&gt;</th><th scope=col>&lt;dbl&gt;</th><th scope=col>&lt;dbl&gt;</th><th scope=col>&lt;dbl&gt;</th><th scope=col>&lt;dbl&gt;</th><th scope=col>&lt;dbl&gt;</th><th scope=col>&lt;dbl&gt;</th></tr>\n",
              "</thead>\n",
              "<tbody>\n",
              "\t<tr><td>1366563</td><td>7.78</td><td>0.00</td><td>14-11-18 15:40:26</td><td>14-11-18 17:11:04</td><td>15</td><td>17</td><td>1.5105556</td><td>Tue</td><td>android</td><td>⋯</td><td>0</td><td>3</td><td>0</td><td>1</td><td>0</td><td>0</td><td>0</td><td>0</td><td>0</td><td>0</td></tr>\n",
              "\t<tr><td>3075723</td><td>9.74</td><td>0.00</td><td>14-11-19 17:40:26</td><td>14-11-19 19:51:04</td><td>17</td><td>19</td><td>2.1772222</td><td>Wed</td><td>android</td><td>⋯</td><td>0</td><td>3</td><td>0</td><td>0</td><td>1</td><td>0</td><td>0</td><td>0</td><td>0</td><td>0</td></tr>\n",
              "\t<tr><td>4228788</td><td>6.76</td><td>0.58</td><td>14-11-21 12:05:46</td><td>14-11-21 16:46:04</td><td>12</td><td>16</td><td>4.6716667</td><td>Fri</td><td>android</td><td>⋯</td><td>0</td><td>3</td><td>0</td><td>0</td><td>0</td><td>0</td><td>1</td><td>0</td><td>0</td><td>0</td></tr>\n",
              "\t<tr><td>3173284</td><td>6.17</td><td>0.00</td><td>14-12-03 19:16:12</td><td>14-12-03 21:02:18</td><td>19</td><td>21</td><td>1.7683333</td><td>Wed</td><td>android</td><td>⋯</td><td>0</td><td>3</td><td>0</td><td>0</td><td>1</td><td>0</td><td>0</td><td>0</td><td>0</td><td>0</td></tr>\n",
              "\t<tr><td>3266500</td><td>0.93</td><td>0.00</td><td>14-12-11 20:56:11</td><td>14-12-11 21:14:06</td><td>20</td><td>21</td><td>0.2986111</td><td>Thu</td><td>android</td><td>⋯</td><td>0</td><td>3</td><td>0</td><td>0</td><td>0</td><td>1</td><td>0</td><td>0</td><td>0</td><td>0</td></tr>\n",
              "</tbody>\n",
              "</table>\n"
            ],
            "text/markdown": "\nA spec_tbl_df: 5 × 24\n\n| sessionId &lt;dbl&gt; | kwhTotal &lt;dbl&gt; | dollars &lt;dbl&gt; | created &lt;dttm&gt; | ended &lt;dttm&gt; | startTime &lt;dbl&gt; | endTime &lt;dbl&gt; | chargeTimeHrs &lt;dbl&gt; | weekday &lt;chr&gt; | platform &lt;chr&gt; | ⋯ ⋯ | managerVehicle &lt;dbl&gt; | facilityType &lt;dbl&gt; | Mon &lt;dbl&gt; | Tues &lt;dbl&gt; | Wed &lt;dbl&gt; | Thurs &lt;dbl&gt; | Fri &lt;dbl&gt; | Sat &lt;dbl&gt; | Sun &lt;dbl&gt; | reportedZip &lt;dbl&gt; |\n|---|---|---|---|---|---|---|---|---|---|---|---|---|---|---|---|---|---|---|---|---|\n| 1366563 | 7.78 | 0.00 | 14-11-18 15:40:26 | 14-11-18 17:11:04 | 15 | 17 | 1.5105556 | Tue | android | ⋯ | 0 | 3 | 0 | 1 | 0 | 0 | 0 | 0 | 0 | 0 |\n| 3075723 | 9.74 | 0.00 | 14-11-19 17:40:26 | 14-11-19 19:51:04 | 17 | 19 | 2.1772222 | Wed | android | ⋯ | 0 | 3 | 0 | 0 | 1 | 0 | 0 | 0 | 0 | 0 |\n| 4228788 | 6.76 | 0.58 | 14-11-21 12:05:46 | 14-11-21 16:46:04 | 12 | 16 | 4.6716667 | Fri | android | ⋯ | 0 | 3 | 0 | 0 | 0 | 0 | 1 | 0 | 0 | 0 |\n| 3173284 | 6.17 | 0.00 | 14-12-03 19:16:12 | 14-12-03 21:02:18 | 19 | 21 | 1.7683333 | Wed | android | ⋯ | 0 | 3 | 0 | 0 | 1 | 0 | 0 | 0 | 0 | 0 |\n| 3266500 | 0.93 | 0.00 | 14-12-11 20:56:11 | 14-12-11 21:14:06 | 20 | 21 | 0.2986111 | Thu | android | ⋯ | 0 | 3 | 0 | 0 | 0 | 1 | 0 | 0 | 0 | 0 |\n\n",
            "text/latex": "A spec\\_tbl\\_df: 5 × 24\n\\begin{tabular}{lllllllllllllllllllll}\n sessionId & kwhTotal & dollars & created & ended & startTime & endTime & chargeTimeHrs & weekday & platform & ⋯ & managerVehicle & facilityType & Mon & Tues & Wed & Thurs & Fri & Sat & Sun & reportedZip\\\\\n <dbl> & <dbl> & <dbl> & <dttm> & <dttm> & <dbl> & <dbl> & <dbl> & <chr> & <chr> & ⋯ & <dbl> & <dbl> & <dbl> & <dbl> & <dbl> & <dbl> & <dbl> & <dbl> & <dbl> & <dbl>\\\\\n\\hline\n\t 1366563 & 7.78 & 0.00 & 14-11-18 15:40:26 & 14-11-18 17:11:04 & 15 & 17 & 1.5105556 & Tue & android & ⋯ & 0 & 3 & 0 & 1 & 0 & 0 & 0 & 0 & 0 & 0\\\\\n\t 3075723 & 9.74 & 0.00 & 14-11-19 17:40:26 & 14-11-19 19:51:04 & 17 & 19 & 2.1772222 & Wed & android & ⋯ & 0 & 3 & 0 & 0 & 1 & 0 & 0 & 0 & 0 & 0\\\\\n\t 4228788 & 6.76 & 0.58 & 14-11-21 12:05:46 & 14-11-21 16:46:04 & 12 & 16 & 4.6716667 & Fri & android & ⋯ & 0 & 3 & 0 & 0 & 0 & 0 & 1 & 0 & 0 & 0\\\\\n\t 3173284 & 6.17 & 0.00 & 14-12-03 19:16:12 & 14-12-03 21:02:18 & 19 & 21 & 1.7683333 & Wed & android & ⋯ & 0 & 3 & 0 & 0 & 1 & 0 & 0 & 0 & 0 & 0\\\\\n\t 3266500 & 0.93 & 0.00 & 14-12-11 20:56:11 & 14-12-11 21:14:06 & 20 & 21 & 0.2986111 & Thu & android & ⋯ & 0 & 3 & 0 & 0 & 0 & 1 & 0 & 0 & 0 & 0\\\\\n\\end{tabular}\n",
            "text/plain": [
              "  sessionId kwhTotal dollars created           ended             startTime\n",
              "1 1366563   7.78     0.00    14-11-18 15:40:26 14-11-18 17:11:04 15       \n",
              "2 3075723   9.74     0.00    14-11-19 17:40:26 14-11-19 19:51:04 17       \n",
              "3 4228788   6.76     0.58    14-11-21 12:05:46 14-11-21 16:46:04 12       \n",
              "4 3173284   6.17     0.00    14-12-03 19:16:12 14-12-03 21:02:18 19       \n",
              "5 3266500   0.93     0.00    14-12-11 20:56:11 14-12-11 21:14:06 20       \n",
              "  endTime chargeTimeHrs weekday platform ⋯ managerVehicle facilityType Mon Tues\n",
              "1 17      1.5105556     Tue     android  ⋯ 0              3            0   1   \n",
              "2 19      2.1772222     Wed     android  ⋯ 0              3            0   0   \n",
              "3 16      4.6716667     Fri     android  ⋯ 0              3            0   0   \n",
              "4 21      1.7683333     Wed     android  ⋯ 0              3            0   0   \n",
              "5 21      0.2986111     Thu     android  ⋯ 0              3            0   0   \n",
              "  Wed Thurs Fri Sat Sun reportedZip\n",
              "1 0   0     0   0   0   0          \n",
              "2 1   0     0   0   0   0          \n",
              "3 0   0     1   0   0   0          \n",
              "4 1   0     0   0   0   0          \n",
              "5 0   1     0   0   0   0          "
            ]
          },
          "metadata": {}
        },
        {
          "output_type": "stream",
          "name": "stdout",
          "text": [
            "Number of Columns: 24 \n",
            "Number of Rows: 3395 \n",
            "List of Columns:\n",
            " 1. sessionId\n",
            "2. kwhTotal\n",
            "3. dollars\n",
            "4. created\n",
            "5. ended\n",
            "6. startTime\n",
            "7. endTime\n",
            "8. chargeTimeHrs\n",
            "9. weekday\n",
            "10. platform\n",
            "11. distance\n",
            "12. userId\n",
            "13. stationId\n",
            "14. locationId\n",
            "15. managerVehicle\n",
            "16. facilityType\n",
            "17. Mon\n",
            "18. Tues\n",
            "19. Wed\n",
            "20. Thurs\n",
            "21. Fri\n",
            "22. Sat\n",
            "23. Sun\n",
            "24. reportedZip\n"
          ]
        }
      ]
    },
    {
      "cell_type": "markdown",
      "source": [
        "Here is breakdown of the columns and its meanings:\n",
        "\n",
        "* **sessionId**: Unique identifier for each charging session.\n",
        "* **kwhTotal**: Total kilowatt-hours (kWh) of electricity delivered during the session.\n",
        "* **dollars**: Total cost of the charging session.\n",
        "* **created**: Date and time when the session was initiated (likely in a format suitable for conversion to a datetime object in R).\n",
        "* **ended**: Date and time when the session was terminated.\n",
        "* **startTime**: Time of day the session began (might be * * separate from the created timestamp if the date information exists elsewhere).\n",
        "* **endTime**: Time of day the session ended (might be separate from the ended timestamp if the date information exists elsewhere).\n",
        "* **chargeTimeHrs**: Total duration of the charging session in hours.\n",
        "* **weekday**: Day of the week (Monday, Tuesday, etc.) the session occurred.\n",
        "* **platform**: Platform used to initiate or manage the charging session (e.g., mobile operating system, charging station interface).\n",
        "* **managerVehicle**: Flag indicating whether the session involved a fleet vehicle managed by a company or organization.\n",
        "* **facilityType**: Type of facility where the charging station is located (e.g., public parking garage, private residence).\n",
        "* **Mon - Sun**: Binary flags indicating the day of the week (1 for that day, 0 otherwise). This might be redundant with the weekday variable.\n",
        "* **reportedZip**: Zip code where the charging session was reported (might differ from the actual location if anonymized)."
      ],
      "metadata": {
        "id": "Yzqpcb4qKwQ-"
      }
    },
    {
      "cell_type": "markdown",
      "source": [
        "## Clean & Describe Data\n",
        "\n",
        "Filter the data so rows with following conditions are not included:\n",
        "\n",
        "\n",
        "*   Distance that is NA\n",
        "*   kwhTotal that is not zero (0)\n",
        "*   chargeTimeHrs that is too small (limit 0.1 hr)\n",
        "\n",
        "\n"
      ],
      "metadata": {
        "id": "xrPo4wSjUsPp"
      }
    },
    {
      "cell_type": "code",
      "source": [
        "data <- subset(data, !is.na(distance) & kwhTotal != 0 & chargeTimeHrs > 0.1 )\n"
      ],
      "metadata": {
        "id": "zV2sdU2xU1Qc"
      },
      "execution_count": 79,
      "outputs": []
    },
    {
      "cell_type": "markdown",
      "source": [
        "Describe all columns' data values\n",
        "\n",
        "\n",
        "\n"
      ],
      "metadata": {
        "id": "yBvRmfs-PSih"
      }
    },
    {
      "cell_type": "code",
      "source": [
        "# Function to analyze category details (modified for printing)\n",
        "analyze_category <- function(column_name) {\n",
        "  # Get number of unique values\n",
        "  num_unique_values <- n_distinct(data[[column_name]])\n",
        "\n",
        "  # Get all unique values\n",
        "  unique_values <- unique(data[[column_name]])\n",
        "\n",
        "  # Print results\n",
        "  cat(\"Category:\", column_name, \"\\n\")\n",
        "  cat(\"Number of Unique Values:\", num_unique_values, \"\\n\")\n",
        "\n",
        "  # Check if there are any unique values to print\n",
        "  if (length(unique_values) > 20) {\n",
        "    cat(\"Unique Values: OMMITED DUE TO LARGE DATA AMOUNT\\n\")\n",
        "  } else if (length(unique_values) > 0){\n",
        "    cat(\"Unique Values:\", unique_values, sep = \", \", collapse = \"\\n\")\n",
        "      }\n",
        "  else {\n",
        "    cat(\"No unique values found.\\n\")\n",
        "  }\n",
        "\n",
        "  cat(\"\\n\")\n",
        "}\n",
        "\n",
        "\n",
        "# Analyze each categorical column\n",
        "categorical_columns <- c(\"weekday\", \"platform\", \"managerVehicle\", 'sessionId',\n",
        "                         \"userId\", \"stationId\", \"locationId\" ,\n",
        "                         'kwhTotal', 'dollars', 'chargeTimeHrs', 'distance',\n",
        "                         \"facilityType\", \"Mon\", \"Tues\", \"Wed\", \"Thurs\",\n",
        "                         \"Fri\", \"Sat\", \"Sun\")  # Assuming these are categorical columns\n",
        "\n",
        "for (col in categorical_columns) {\n",
        "    analyze_category(col)\n",
        "\n",
        "}"
      ],
      "metadata": {
        "colab": {
          "base_uri": "https://localhost:8080/"
        },
        "id": "w7kFFZ4tLxim",
        "outputId": "e88b5f4e-43e6-4e85-9138-753f63b30dbc"
      },
      "execution_count": 80,
      "outputs": [
        {
          "output_type": "stream",
          "name": "stdout",
          "text": [
            "Category: weekday \n",
            "Number of Unique Values: 7 \n",
            "Unique Values:, Tue, Wed, Thu, Fri, Mon, Sat, Sun, \n",
            "\n",
            "Category: platform \n",
            "Number of Unique Values: 2 \n",
            "Unique Values:, ios, android, \n",
            "\n",
            "Category: managerVehicle \n",
            "Number of Unique Values: 2 \n",
            "Unique Values:, 0, 1, \n",
            "\n",
            "Category: sessionId \n",
            "Number of Unique Values: 2325 \n",
            "Unique Values: OMMITED DUE TO LARGE DATA AMOUNT\n",
            "\n",
            "Category: userId \n",
            "Number of Unique Values: 63 \n",
            "Unique Values:, 30828105, 97867440, 49241808, 33081741, 57882330, 19555569, 36768303, 72512154, 37392894, 48585042, 47158353, 45267948, 32751774, 76114467, 98345808, 81375624, 32015313, 92192265, 95980995, 82888443, 46009656, 92283246, 11299464, 33295482, 87444027, 50725917, 24920478, 30296079, 10909503, 85580550, 27476262, 68581656, 29309940, 25628328, 54832140, 24478344, 81701631, 50986683, 81880524, 74843010, 66233970, 41493375, 39279042, 29845530, 45460701, 81295434, 14260257, 10427670, 93202560, 24408549, 17969193, 13066218, 90546786, 41222907, 95411349, 75009330, 83573325, 39241917, 14996520, 59574735, 32070852, 58023207, 26098875, \n",
            "\n",
            "Category: stationId \n",
            "Number of Unique Values: 100 \n",
            "Unique Values:, 632920, 569889, 612116, 549414, 129465, 371335, 792421, 507660, 911231, 672450, 414088, 514669, 944515, 200695, 260781, 131897, 236379, 955429, 369001, 902592, 920264, 582873, 431796, 801274, 355208, 405157, 250527, 875343, 943765, 404112, 758780, 987396, 981639, 540225, 587514, 914907, 884707, 237105, 575971, 207262, 728918, 425476, 944575, 256233, 894409, 594591, 878706, 711566, 653450, 228137, 782629, 643012, 729642, 349635, 693651, 474204, 191826, 562656, 260408, 932939, 445920, 871619, 219054, 386940, 874950, 451479, 787792, 989457, 280221, 738900, 861532, 366832, 891421, 664306, 489543, 995505, 569886, 623134, 134427, 638536, 500856, 236840, 818217, 616125, 803398, 568071, 572249, 951880, 517464, 280415, 929628, 481613, 288445, 922416, 864630, 988981, 914305, 926676, 488364, 286084, \n",
            "\n",
            "Category: locationId \n",
            "Number of Unique Values: 23 \n",
            "Unique Values:, 461655, 202527, 566549, 976902, 928191, 493904, 747048, 399399, 978130, 572514, 648339, 948590, 503205, 517854, 481066, 868085, 125372, 814002, 620906, 454147, 144857, 700367, 751082, \n",
            "\n",
            "Category: kwhTotal \n",
            "Number of Unique Values: 670 \n",
            "Unique Values: OMMITED DUE TO LARGE DATA AMOUNT\n",
            "\n",
            "Category: dollars \n",
            "Number of Unique Values: 42 \n",
            "Unique Values:, 0, 0.67, 3.08, 0.5, 0.83, 0.58, 2.25, 2.42, 4.25, 2.08, 1.25, 1.42, 1.75, 2.75, 0.75, 0.92, 1.5, 4.17, 2.58, 1, 1.17, 2.33, 2.83, 4.75, 1.33, 4.67, 4, 1.83, 1.08, 2.5, 6.42, 5.75, 1.92, 7.5, 5.17, 5.33, 5, 3.5, 1.67, 4.42, 1.58, 3.25, \n",
            "\n",
            "Category: chargeTimeHrs \n",
            "Number of Unique Values: 2133 \n",
            "Unique Values: OMMITED DUE TO LARGE DATA AMOUNT\n",
            "\n",
            "Category: distance \n",
            "Number of Unique Values: 96 \n",
            "Unique Values:, 20.69573, 20.23651, 20.59879, 20.78148, 20.83368, 24.85662, 15.37157, 15.73385, 15.83079, 31.99775, 26.61021, 2.924308, 3.155469, 32.06486, 18.65132, 21.13195, 18.46304, 17.68877, 18.55811, 20.55094, 2.495542, 2.625415, 2.573217, 24.09727, 21.02383, 14.84152, 32.87455, 33.75693, 34.28264, 5.135871, 19.1037, 19.50699, 21.09032, 14.95648, 40.93473, 23.35408, 23.54236, 19.75741, 19.35412, 21.3569, 31.59384, 29.99684, 34.31184, 28.5291, 19.64556, 15.56545, 20.19053, 17.87209, 30.41318, 23.54857, 23.63743, 18.22193, 1.375158, 0.9718696, 2.149423, 1.472718, 2.988313, 26.60151, 5.503118, 5.027126, 2.337085, 2.582538, 5.41488, 1.788389, 8.58402, 28.89199, 24.5192, 1.132191, 5.706316, 6.421548, 28.61671, 3.984417, 10.46127, 10.90184, 14.99127, 0.8569106, 16.45343, 33.46985, 33.06656, 33.01871, 22.44, 22.21381, 43.05929, 27.28505, 26.50085, 27.96486, 27.09615, 20.14765, 20.88401, 3.177218, 2.88951, 5.367032, 4.127339, 13.35264, 4.671064, 3.308334, \n",
            "\n",
            "Category: facilityType \n",
            "Number of Unique Values: 4 \n",
            "Unique Values:, 3, 1, 2, 4, \n",
            "\n",
            "Category: Mon \n",
            "Number of Unique Values: 2 \n",
            "Unique Values:, 0, 1, \n",
            "\n",
            "Category: Tues \n",
            "Number of Unique Values: 2 \n",
            "Unique Values:, 1, 0, \n",
            "\n",
            "Category: Wed \n",
            "Number of Unique Values: 2 \n",
            "Unique Values:, 0, 1, \n",
            "\n",
            "Category: Thurs \n",
            "Number of Unique Values: 2 \n",
            "Unique Values:, 0, 1, \n",
            "\n",
            "Category: Fri \n",
            "Number of Unique Values: 2 \n",
            "Unique Values:, 0, 1, \n",
            "\n",
            "Category: Sat \n",
            "Number of Unique Values: 2 \n",
            "Unique Values:, 0, 1, \n",
            "\n",
            "Category: Sun \n",
            "Number of Unique Values: 2 \n",
            "Unique Values:, 0, 1, \n",
            "\n"
          ]
        }
      ]
    },
    {
      "cell_type": "markdown",
      "source": [
        "# Descriptive Statistics\n",
        "\n",
        "Calculate average charging time, cost per kWh, and session duration by weekdays/platforms."
      ],
      "metadata": {
        "id": "CS5pZ-5cIOw4"
      }
    },
    {
      "cell_type": "markdown",
      "source": [
        "Total Kwh and Charge Time"
      ],
      "metadata": {
        "id": "TX7JD6dXva3Q"
      }
    },
    {
      "cell_type": "code",
      "source": [
        "df_filtered <- data[data$kwhTotal == 0, ]\n",
        "\n",
        "summary(df_filtered$chargeTimeMins)\n",
        "\n",
        "# Calculate total energy in minutes\n",
        "total_minutes <- sum(data$chargeTimeHrs * 60)\n",
        "\n",
        "# Calculate total kWh consumed\n",
        "total_kwh <- sum(data$kwhTotal)\n",
        "\n",
        "# Print results\n",
        "cat(\"Number of rows with kwhTotal = 0 is \", nrow(df_filtered), \"\\n\")\n",
        "cat(\"Total Energy Consumed (minutes):\", total_minutes, \"\\n\")\n",
        "cat(\"Total kWh Consumed:\", total_kwh)"
      ],
      "metadata": {
        "colab": {
          "base_uri": "https://localhost:8080/",
          "height": 139
        },
        "id": "lN76Ak7dwdwj",
        "outputId": "7cc96ed1-bb62-41a3-a120-2e30d28d080f"
      },
      "execution_count": 81,
      "outputs": [
        {
          "output_type": "stream",
          "name": "stderr",
          "text": [
            "Warning message:\n",
            "“Unknown or uninitialised column: `chargeTimeMins`.”\n"
          ]
        },
        {
          "output_type": "display_data",
          "data": {
            "text/plain": [
              "Length  Class   Mode \n",
              "     0   NULL   NULL "
            ]
          },
          "metadata": {}
        },
        {
          "output_type": "stream",
          "name": "stdout",
          "text": [
            "Number of rows with kwhTotal = 0 is  0 \n",
            "Total Energy Consumed (minutes): 397435.2 \n",
            "Total kWh Consumed: 13100.98"
          ]
        }
      ]
    },
    {
      "cell_type": "code",
      "source": [
        "# Calculate average charging time (assuming chargeTimeHrs is numeric)\n",
        "avg_charge_time <- mean(data$chargeTimeHrs)\n",
        "\n",
        "# Calculate average cost per kWh (assuming kwhTotal and dollars are numeric)\n",
        "avg_cost_kwh <- mean(data$dollars / data$kwhTotal)\n",
        "\n",
        "# Group by weekday and calculate average session duration\n",
        "avg_duration_weekday <- data %>%\n",
        "  group_by(weekday) %>%\n",
        "  summarize(avg_duration = mean(chargeTimeHrs))\n",
        "\n",
        "# Group by platform and calculate average cost\n",
        "avg_cost_platform <- data %>%\n",
        "  group_by(platform) %>%\n",
        "  summarize(avg_cost = mean(dollars))\n",
        "\n",
        "# Print the results\n",
        "cat(\"Average Charging Time:\", avg_charge_time, \"hours\\n\")\n",
        "cat(\"Average Cost per kWh:\", avg_cost_kwh, \"\\n\")\n",
        "print(avg_duration_weekday)\n",
        "print(avg_cost_platform)"
      ],
      "metadata": {
        "colab": {
          "base_uri": "https://localhost:8080/"
        },
        "id": "3miAtdojH6ZQ",
        "outputId": "9175d86b-52cd-4c3d-ce23-025076fe93dd"
      },
      "execution_count": 82,
      "outputs": [
        {
          "output_type": "stream",
          "name": "stdout",
          "text": [
            "Average Charging Time: 2.848998 hours\n",
            "Average Cost per kWh: 0.01991015 \n",
            "\u001b[90m# A tibble: 7 × 2\u001b[39m\n",
            "  weekday avg_duration\n",
            "  \u001b[3m\u001b[90m<chr>\u001b[39m\u001b[23m          \u001b[3m\u001b[90m<dbl>\u001b[39m\u001b[23m\n",
            "\u001b[90m1\u001b[39m Fri             2.80\n",
            "\u001b[90m2\u001b[39m Mon             2.83\n",
            "\u001b[90m3\u001b[39m Sat             2.32\n",
            "\u001b[90m4\u001b[39m Sun             2.16\n",
            "\u001b[90m5\u001b[39m Thu             2.86\n",
            "\u001b[90m6\u001b[39m Tue             2.87\n",
            "\u001b[90m7\u001b[39m Wed             2.95\n",
            "\u001b[90m# A tibble: 2 × 2\u001b[39m\n",
            "  platform avg_cost\n",
            "  \u001b[3m\u001b[90m<chr>\u001b[39m\u001b[23m       \u001b[3m\u001b[90m<dbl>\u001b[39m\u001b[23m\n",
            "\u001b[90m1\u001b[39m android    0.073\u001b[4m2\u001b[24m\n",
            "\u001b[90m2\u001b[39m ios        0.114 \n"
          ]
        }
      ]
    },
    {
      "cell_type": "markdown",
      "source": [
        "**Demand Analysis:**\n",
        "\n",
        "Identify peak hours or days for charging based on `kwhTotal` and session counts.*italicised text*"
      ],
      "metadata": {
        "id": "udE3dSC3IUsB"
      }
    },
    {
      "cell_type": "code",
      "source": [
        "kwh_by_hour <- data %>%\n",
        "  group_by(hour = strftime(created, format = \"%H\")) %>%  # Extract hour from created timestamp\n",
        "  summarize(total_kwh = sum(kwhTotal))\n",
        "\n",
        "# Create a time series plot\n",
        "ggplot(kwh_by_hour, aes(x = hour, y = total_kwh)) +\n",
        "  geom_col(stat = \"identity\", aes(fill = total_kwh), color = \"black\") +  # Color based on total_kwh\n",
        "  scale_fill_gradient(low = \"lightblue\", high = \"darkred\") +  # Color gradient for kWh values\n",
        "  labs(title = \"Total kWh Consumed by Hour\", x = \"Hour of Day\", y = \"Total kWh\")\n"
      ],
      "metadata": {
        "colab": {
          "base_uri": "https://localhost:8080/",
          "height": 472
        },
        "id": "ADQ4B5eAIDtb",
        "outputId": "75d7810f-b2cf-455f-f3f4-d21f2fdc0869"
      },
      "execution_count": 83,
      "outputs": [
        {
          "output_type": "stream",
          "name": "stderr",
          "text": [
            "Warning message in geom_col(stat = \"identity\", aes(fill = total_kwh), color = \"black\"):\n",
            "“\u001b[1m\u001b[22mIgnoring unknown parameters: `stat`”\n"
          ]
        },
        {
          "output_type": "display_data",
          "data": {
            "text/plain": [
              "plot without title"
            ],
            "image/png": "[encoded data removed]"
          },
          "metadata": {
            "image/png": {
              "width": 420,
              "height": 420
            }
          }
        }
      ]
    },
    {
      "cell_type": "markdown",
      "source": [
        "# Weekly Utilization\n",
        "Identify days of the week when charging is mostly utilized\n",
        "\n",
        "\n"
      ],
      "metadata": {
        "id": "qgA00vUaRF5F"
      }
    },
    {
      "cell_type": "code",
      "source": [
        "# 1. Utilization by Weekday and usage\n",
        "ggplot(data, aes(x = weekday, fill=weekday)) +\n",
        "  geom_bar(stat = \"count\") +  # Count occurrences for each weekday on x-axis\n",
        "  labs(title = \"Day of the Week\", x = \"Weekday\", y = \"Count\") +  # Set labels\n",
        "  scale_x_discrete(limits = c(\"Mon\", \"Tue\", \"Wed\", \"Thu\", \"Fri\", \"Sat\", \"Sun\")) +  # Set order for weekdays\n",
        "  theme_classic()  # Adjust the plot theme (optional)\n",
        "\n",
        "\n",
        "# 2. Utilization by Weekday and sum kWhTotal\n",
        "day_kwh_summary <- data %>%\n",
        "  group_by(weekday) %>%  # Group by weekday (assuming numeric 1-7 or day names)\n",
        "  summarize(total_kwh = sum(kwhTotal))\n",
        "\n",
        "ggplot(day_kwh_summary, aes(x = weekday, y = total_kwh, fill = weekday)) +\n",
        "  geom_col(stat = \"identity\") +\n",
        "  labs(title = \"Total kWh Consumed by Day of Week\", x = \"Day of Week\", y = \"Total kWh\") +\n",
        "  scale_x_discrete(limits = c(\"Mon\", \"Tue\", \"Wed\", \"Thu\", \"Fri\", \"Sat\", \"Sun\")) +  # Set order for weekdays\n",
        "  theme_classic()  # Adjust the plot theme (optional)"
      ],
      "metadata": {
        "colab": {
          "base_uri": "https://localhost:8080/",
          "height": 892
        },
        "id": "ZQqY_j6TVUgm",
        "outputId": "935ef08f-405c-4341-9d70-0506bbafd558"
      },
      "execution_count": 84,
      "outputs": [
        {
          "output_type": "stream",
          "name": "stderr",
          "text": [
            "Warning message in geom_col(stat = \"identity\"):\n",
            "“\u001b[1m\u001b[22mIgnoring unknown parameters: `stat`”\n"
          ]
        },
        {
          "output_type": "display_data",
          "data": {
            "text/plain": [
              "plot without title"
            ],
            "image/png": "[encoded data removed]"
          },
          "metadata": {
            "image/png": {
              "width": 420,
              "height": 420
            }
          }
        },
        {
          "output_type": "display_data",
          "data": {
            "text/plain": [
              "plot without title"
            ],
            "image/png": "[encoded data removed]"
          },
          "metadata": {
            "image/png": {
              "width": 420,
              "height": 420
            }
          }
        }
      ]
    },
    {
      "cell_type": "markdown",
      "source": [
        "# Customer Behavior\n",
        "Analyze charging behavior by platform type or facility type."
      ],
      "metadata": {
        "id": "9FTxbPgxIc1u"
      }
    },
    {
      "cell_type": "markdown",
      "source": [
        "The platform that users used when charging"
      ],
      "metadata": {
        "id": "tIpnqdJNehAT"
      }
    },
    {
      "cell_type": "code",
      "source": [
        "# Assuming 'data' is your dataframe and 'platform' is the column of interest\n",
        "platform_data <- data %>%\n",
        "  group_by(platform) %>%\n",
        "  summarise(count = n()) %>%\n",
        "  mutate(percentage = count / sum(count) * 100)\n",
        "\n",
        "# Create a pie chart with both count and percentage labels\n",
        "ggplot(platform_data, aes(x = \"\", y = count, fill = platform)) +\n",
        "  geom_bar(stat = \"identity\", width = 1) +\n",
        "  coord_polar(\"y\", start = 0) +\n",
        "  geom_text(aes(label = paste(count, \" (\", round(percentage, 2), \"%)\", sep = \"\")),\n",
        "            position = position_stack(vjust = 0.5)) +\n",
        "  labs(title = \"Platform Distribution\", x = NULL, y = NULL, fill = \"Platform\") +\n",
        "  theme_classic()\n"
      ],
      "metadata": {
        "colab": {
          "base_uri": "https://localhost:8080/",
          "height": 437
        },
        "id": "vLQ6aLUGaH4j",
        "outputId": "7cfdb6fc-e209-4978-ec85-ad425e547bb1"
      },
      "execution_count": 85,
      "outputs": [
        {
          "output_type": "display_data",
          "data": {
            "text/plain": [
              "plot without title"
            ],
            "image/png": "[encoded data removed]"
          },
          "metadata": {
            "image/png": {
              "width": 420,
              "height": 420
            }
          }
        }
      ]
    },
    {
      "cell_type": "markdown",
      "source": [
        "Average Charging duration per platform user\n",
        "\n"
      ],
      "metadata": {
        "id": "7gWrrGokfM-g"
      }
    },
    {
      "cell_type": "code",
      "source": [
        "average_session_duration <- data %>%\n",
        "  group_by(platform) %>%\n",
        "  summarise(average_duration = mean(chargeTimeHrs, na.rm = TRUE)) %>%\n",
        "  arrange(desc(average_duration))\n",
        "\n",
        "knitr::kable(average_session_duration, format = \"markdown\", col.names = c(\"Platform\", \"Average Session Duration (hrs)\"))\n"
      ],
      "metadata": {
        "colab": {
          "base_uri": "https://localhost:8080/",
          "height": 121
        },
        "id": "SfiLK4FKIgRG",
        "outputId": "dd044bd7-1231-4cfb-f172-7662a517610e"
      },
      "execution_count": 86,
      "outputs": [
        {
          "output_type": "display_data",
          "data": {
            "text/plain": [
              "\n",
              "\n",
              "|Platform | Average Session Duration (hrs)|\n",
              "|:--------|------------------------------:|\n",
              "|android  |                       2.867123|\n",
              "|ios      |                       2.844430|"
            ]
          },
          "metadata": {}
        }
      ]
    },
    {
      "cell_type": "markdown",
      "source": [
        "Average cost per platform"
      ],
      "metadata": {
        "id": "C44yMv1WfZ7E"
      }
    },
    {
      "cell_type": "code",
      "source": [
        "average_cost_per_platform <- data %>%\n",
        "  group_by(platform) %>%\n",
        "  summarise(average_cost = mean(dollars, na.rm = TRUE)) %>%\n",
        "  arrange(desc(average_cost))\n",
        "\n",
        "# Display the results in a nicely formatted table\n",
        "knitr::kable(average_cost_per_platform, format = \"markdown\", col.names = c(\"Platform\", \"Average Cost (USD)\"))\n"
      ],
      "metadata": {
        "colab": {
          "base_uri": "https://localhost:8080/",
          "height": 121
        },
        "id": "G2OvL0IxffGn",
        "outputId": "b256b487-8319-424a-b356-068b435a7bf5"
      },
      "execution_count": 87,
      "outputs": [
        {
          "output_type": "display_data",
          "data": {
            "text/plain": [
              "\n",
              "\n",
              "|Platform | Average Cost (USD)|\n",
              "|:--------|------------------:|\n",
              "|ios      |          0.1143834|\n",
              "|android  |          0.0731624|"
            ]
          },
          "metadata": {}
        }
      ]
    },
    {
      "cell_type": "markdown",
      "source": [
        "Facilitate Analysis\n",
        "\n"
      ],
      "metadata": {
        "id": "LK39m2JXg1Ic"
      }
    },
    {
      "cell_type": "code",
      "source": [
        "facility_usage <- data %>%\n",
        "  group_by(facilityType) %>%\n",
        "  summarise(\n",
        "    total_sessions = n(),\n",
        "    average_kwh = mean(kwhTotal, na.rm = TRUE),\n",
        "    average_cost = mean(dollars, na.rm = TRUE)\n",
        "  ) %>%\n",
        "  ungroup()\n",
        "\n",
        "# Now, let's visualize the average kWh and cost per facility type\n",
        "ggplot(facility_usage, aes(x = reorder(facilityType, -average_kwh), y = average_kwh)) +\n",
        "  geom_bar(stat = \"identity\", fill = 'steelblue') +\n",
        "  labs(title = \"Average kWh by Facility Type\", x = \"Facility Type\", y = \"Average kWh\") +\n",
        "  scale_x_discrete(limits = c(\"1\", \"2\", \"3\", \"4\")) +\n",
        "  theme_classic()  # Adjust th\n",
        "\n",
        "ggplot(facility_usage, aes(x = reorder(facilityType, -average_cost), y = average_cost)) +\n",
        "  geom_bar(stat = \"identity\", fill = 'darkgreen') +\n",
        "  labs(title = \"Average Cost by Facility Type\", x = \"Facility Type\", y = \"Average Cost (USD)\") +\n",
        "  scale_x_discrete(limits = c(\"1\", \"2\", \"3\", \"4\")) +\n",
        "  theme_minimal()"
      ],
      "metadata": {
        "colab": {
          "base_uri": "https://localhost:8080/",
          "height": 857
        },
        "id": "b6hLRfe9hAgb",
        "outputId": "9b52c33b-811c-4a92-99f4-a09317ec088c"
      },
      "execution_count": 88,
      "outputs": [
        {
          "output_type": "display_data",
          "data": {
            "text/plain": [
              "plot without title"
            ],
            "image/png": "[encoded data removed]"
          },
          "metadata": {
            "image/png": {
              "width": 420,
              "height": 420
            }
          }
        },
        {
          "output_type": "display_data",
          "data": {
            "text/plain": [
              "plot without title"
            ],
            "image/png": "[encoded data removed]"
          },
          "metadata": {
            "image/png": {
              "width": 420,
              "height": 420
            }
          }
        }
      ]
    },
    {
      "cell_type": "markdown",
      "source": [],
      "metadata": {
        "id": "_Nq027y8hqZd"
      }
    },
    {
      "cell_type": "markdown",
      "source": [
        "# Pricing Models\n",
        "\n",
        "Explore relationships between charging duration, `kwhTotal`, and cost (`dollars`)."
      ],
      "metadata": {
        "id": "KQR0kNZPImlr"
      }
    },
    {
      "cell_type": "code",
      "source": [
        "# Explore the relationship between charge duration, kWh, and cost\n",
        "ggplot(data, aes(x = chargeTimeHrs, y = dollars)) +\n",
        "  geom_point() +\n",
        "  labs(title = \"Charging Cost vs Duration\", x = \"Charging Time (Hours)\", y = \"Cost (Dollars)\")\n",
        "\n",
        "# Consider linear regression for pricing model exploration (caret package)\n",
        "model <- lm(dollars ~ chargeTimeHrs + kwhTotal, data = data)\n",
        "summary(model)  # Analyze model performance"
      ],
      "metadata": {
        "colab": {
          "base_uri": "https://localhost:8080/",
          "height": 767
        },
        "id": "pcrdvgdFIsiZ",
        "outputId": "65069c6d-0846-4864-d2f7-cb0857d289d8"
      },
      "execution_count": 89,
      "outputs": [
        {
          "output_type": "display_data",
          "data": {
            "text/plain": [
              "\n",
              "Call:\n",
              "lm(formula = dollars ~ chargeTimeHrs + kwhTotal, data = data)\n",
              "\n",
              "Residuals:\n",
              "    Min      1Q  Median      3Q     Max \n",
              "-0.6959 -0.2192 -0.0170  0.1551  4.6261 \n",
              "\n",
              "Coefficients:\n",
              "               Estimate Std. Error t value Pr(>|t|)    \n",
              "(Intercept)   -0.543071   0.023218  -23.39   <2e-16 ***\n",
              "chargeTimeHrs  0.324693   0.007220   44.97   <2e-16 ***\n",
              "kwhTotal      -0.048962   0.003722  -13.15   <2e-16 ***\n",
              "---\n",
              "Signif. codes:  0 ‘***’ 0.001 ‘**’ 0.01 ‘*’ 0.05 ‘.’ 0.1 ‘ ’ 1\n",
              "\n",
              "Residual standard error: 0.3574 on 2322 degrees of freedom\n",
              "Multiple R-squared:  0.472,\tAdjusted R-squared:  0.4716 \n",
              "F-statistic:  1038 on 2 and 2322 DF,  p-value: < 2.2e-16\n"
            ]
          },
          "metadata": {}
        },
        {
          "output_type": "display_data",
          "data": {
            "text/plain": [
              "plot without title"
            ],
            "image/png": "[encoded data removed]"
          },
          "metadata": {
            "image/png": {
              "width": 420,
              "height": 420
            }
          }
        }
      ]
    },
    {
      "cell_type": "markdown",
      "source": [
        "# Predictive Model: Time Series Analysis\n",
        "\n",
        "Since there is date and time information for each charging session, we can analyze the charging patterns over time. This involves:\n",
        "* Trend analysis to identify long-term increases or decreases in usage.\n",
        "* Seasonality analysis to understand daily or weekly patterns.\n",
        "* Time series forecasting to predict future charging demand."
      ],
      "metadata": {
        "id": "2yA0u3j2h1nt"
      }
    },
    {
      "cell_type": "code",
      "source": [
        "install.packages(\"forecast\")\n",
        "library(tidyverse)\n",
        "library(lubridate)\n",
        "library(forecast)"
      ],
      "metadata": {
        "id": "FVxkadmRmyuj",
        "colab": {
          "base_uri": "https://localhost:8080/"
        },
        "outputId": "a381260d-a1cb-4463-c274-5846abf74089"
      },
      "execution_count": 90,
      "outputs": [
        {
          "output_type": "stream",
          "name": "stderr",
          "text": [
            "Installing package into ‘/usr/local/lib/R/site-library’\n",
            "(as ‘lib’ is unspecified)\n",
            "\n"
          ]
        }
      ]
    },
    {
      "cell_type": "code",
      "source": [
        "data$created <- as.POSIXct(data$created, format = \"%Y-%m-%d %H:%M:%S\")\n",
        "\n",
        "# Aggregate data to get total kWh per day (or other desired time period)\n",
        "daily_data <- data %>%\n",
        "  group_by(date = as.Date(created)) %>%\n",
        "  summarise(total_kwh = sum(kwhTotal))\n",
        "\n",
        "daily_data %>%\n",
        "  slice_head(n = 5)\n",
        "\n",
        "# Convert to a time series object\n",
        "ts_data <- ts(daily_data$total_kwh, frequency = 365)\n",
        "\n",
        "# Fit a linear model to the time series data\n",
        "trend_model <- lm(ts_data ~ time(ts_data))\n",
        "\n",
        "# Summary of the model to see the trend\n",
        "summary(trend_model)\n",
        "\n",
        "# Plot the time series with the trend line\n",
        "plot(ts_data, main = \"Time Series Data with Trend Line\")\n",
        "abline(trend_model, col = \"red\")"
      ],
      "metadata": {
        "colab": {
          "base_uri": "https://localhost:8080/",
          "height": 987
        },
        "id": "QJk3aCXdiGew",
        "outputId": "8d7eb4f2-7cca-4dd9-a069-6b8037558564"
      },
      "execution_count": 8,
      "outputs": [
        {
          "output_type": "display_data",
          "data": {
            "text/html": [
              "<table class=\"dataframe\">\n",
              "<caption>A tibble: 5 × 2</caption>\n",
              "<thead>\n",
              "\t<tr><th scope=col>date</th><th scope=col>total_kwh</th></tr>\n",
              "\t<tr><th scope=col>&lt;date&gt;</th><th scope=col>&lt;dbl&gt;</th></tr>\n",
              "</thead>\n",
              "<tbody>\n",
              "\t<tr><td>14-11-18</td><td>13.39</td></tr>\n",
              "\t<tr><td>14-11-19</td><td>18.77</td></tr>\n",
              "\t<tr><td>14-11-20</td><td> 6.95</td></tr>\n",
              "\t<tr><td>14-11-21</td><td>14.14</td></tr>\n",
              "\t<tr><td>14-11-24</td><td> 6.69</td></tr>\n",
              "</tbody>\n",
              "</table>\n"
            ],
            "text/markdown": "\nA tibble: 5 × 2\n\n| date &lt;date&gt; | total_kwh &lt;dbl&gt; |\n|---|---|\n| 14-11-18 | 13.39 |\n| 14-11-19 | 18.77 |\n| 14-11-20 |  6.95 |\n| 14-11-21 | 14.14 |\n| 14-11-24 |  6.69 |\n\n",
            "text/latex": "A tibble: 5 × 2\n\\begin{tabular}{ll}\n date & total\\_kwh\\\\\n <date> & <dbl>\\\\\n\\hline\n\t 14-11-18 & 13.39\\\\\n\t 14-11-19 & 18.77\\\\\n\t 14-11-20 &  6.95\\\\\n\t 14-11-21 & 14.14\\\\\n\t 14-11-24 &  6.69\\\\\n\\end{tabular}\n",
            "text/plain": [
              "  date     total_kwh\n",
              "1 14-11-18 13.39    \n",
              "2 14-11-19 18.77    \n",
              "3 14-11-20  6.95    \n",
              "4 14-11-21 14.14    \n",
              "5 14-11-24  6.69    "
            ]
          },
          "metadata": {}
        },
        {
          "output_type": "display_data",
          "data": {
            "text/plain": [
              "\n",
              "Call:\n",
              "lm(formula = ts_data ~ time(ts_data))\n",
              "\n",
              "Residuals:\n",
              "     Min       1Q   Median       3Q      Max \n",
              "-160.402  -11.108    6.018   31.416  101.906 \n",
              "\n",
              "Coefficients:\n",
              "              Estimate Std. Error t value Pr(>|t|)    \n",
              "(Intercept)    -260.18      24.49  -10.62   <2e-16 ***\n",
              "time(ts_data)   258.98      18.30   14.15   <2e-16 ***\n",
              "---\n",
              "Signif. codes:  0 ‘***’ 0.001 ‘**’ 0.01 ‘*’ 0.05 ‘.’ 0.1 ‘ ’ 1\n",
              "\n",
              "Residual standard error: 53.15 on 236 degrees of freedom\n",
              "Multiple R-squared:  0.4589,\tAdjusted R-squared:  0.4566 \n",
              "F-statistic: 200.2 on 1 and 236 DF,  p-value: < 2.2e-16\n"
            ]
          },
          "metadata": {}
        },
        {
          "output_type": "display_data",
          "data": {
            "text/plain": [
              "Plot with title “Time Series Data with Trend Line”"
            ],
            "image/png": "[encoded data removed]"
          },
          "metadata": {
            "image/png": {
              "width": 420,
              "height": 420
            }
          }
        }
      ]
    },
    {
      "cell_type": "markdown",
      "source": [],
      "metadata": {
        "id": "5gO0Ns0TepFb"
      }
    },
    {
      "cell_type": "markdown",
      "source": [
        "# Charging Session Duration Prediction\n",
        "\n",
        "Use ML models to predict the duration of EV charging sessions based on historical data. This can help users plan their charging schedules more effectively.\n"
      ],
      "metadata": {
        "id": "u7pH1pPlj0Ps"
      }
    },
    {
      "cell_type": "markdown",
      "source": [
        "Install necessay packages for ML"
      ],
      "metadata": {
        "id": "siZG8nZXlWNb"
      }
    },
    {
      "cell_type": "code",
      "source": [
        "#install necessary packages\n",
        "install.packages(\"caret\")\n",
        "library(caret)\n",
        "\n",
        "install.packages(\"keras\")\n",
        "library(keras)\n",
        "\n",
        "install.packages(\"Metrics\")\n",
        "\n",
        "install.packages(\"randomForest\")"
      ],
      "metadata": {
        "id": "-xjCY_GMcanR",
        "colab": {
          "base_uri": "https://localhost:8080/"
        },
        "outputId": "85774070-55b8-43c3-a266-7897068cae19"
      },
      "execution_count": 30,
      "outputs": [
        {
          "output_type": "stream",
          "name": "stderr",
          "text": [
            "Installing package into ‘/usr/local/lib/R/site-library’\n",
            "(as ‘lib’ is unspecified)\n",
            "\n",
            "Installing package into ‘/usr/local/lib/R/site-library’\n",
            "(as ‘lib’ is unspecified)\n",
            "\n",
            "Installing package into ‘/usr/local/lib/R/site-library’\n",
            "(as ‘lib’ is unspecified)\n",
            "\n",
            "Installing package into ‘/usr/local/lib/R/site-library’\n",
            "(as ‘lib’ is unspecified)\n",
            "\n"
          ]
        }
      ]
    },
    {
      "cell_type": "markdown",
      "source": [
        "Split data to train and test. Split is 80% for train and 20% for test data."
      ],
      "metadata": {
        "id": "HCDR-Eohlawj"
      }
    },
    {
      "cell_type": "code",
      "source": [
        "features <- data[, c(\"startTime\", \"distance\")]\n",
        "target <- data$chargeTimeHrs  # Duration in hours\n",
        "\n",
        "# Split data into training and validation sets\n",
        "set.seed(42)\n",
        "split_index <- createDataPartition(target, p = 0.8, list = FALSE)\n",
        "X_train <- features[split_index, ]\n",
        "X_val <- features[-split_index, ]\n",
        "y_train <- target[split_index]\n",
        "y_val <- target[-split_index]"
      ],
      "metadata": {
        "id": "5aH8U7ZdkQbk"
      },
      "execution_count": 65,
      "outputs": []
    },
    {
      "cell_type": "markdown",
      "source": [
        "# K-Nearest Neighbors (KNN)\n",
        "\n",
        "*   KNN is a simple yet effective algorithm for regression tasks.\n",
        "*   It predicts the duration based on the average of the K nearest neighbors in\n",
        "the feature space.\n",
        "*   You can use features like `chargeTimeHrs`, `startTime`, and `distance` to train the KNN model.\n",
        "*    Tune the hyperparameter K to find the optimal value.\n",
        "*    Evaluate the model using metrics like Mean Absolute Error (MAE) or Root Mean Squared Error (RMSE)."
      ],
      "metadata": {
        "id": "0cc-GXEjX9wu"
      }
    },
    {
      "cell_type": "code",
      "source": [
        "\n",
        "knn_grid <- expand.grid(k = 1:8)  # Define a grid of K values to explore\n",
        "\n",
        "# Initialize KNN regressor\n",
        "#knn_model <- train(y_train ~ ., data = X_train, method = \"knn\", trControl = trainControl(method = \"cv\"))\n",
        "knn_model <- train(\n",
        "  x = X_train,\n",
        "  y = y_train,\n",
        "  method = \"knn\",\n",
        "  trControl = trainControl(method = \"cv\", number = 20),  # 5-fold cross-validation\n",
        "  tuneGrid = knn_grid  # Specify the grid of K values\n",
        ")\n",
        "# Make predictions\n",
        "y_pred_knn <- predict(knn_model, newdata = X_val)\n",
        "\n",
        "# Get the best K value\n",
        "best_k <- knn_model$bestTune$k\n",
        "print(paste(\"Best K value:\", best_k))\n",
        "\n",
        "# Evaluate performance\n",
        "library(Metrics)\n",
        "mae_knn <- mae(y_val, y_pred_knn)\n",
        "print(paste(\"KNN MAE:\", round(mae_knn, 2), \"minutes\"))"
      ],
      "metadata": {
        "colab": {
          "base_uri": "https://localhost:8080/"
        },
        "id": "Mli19VhOm7ZQ",
        "outputId": "0bbe7bcf-d16f-4df3-c359-c9982c948417",
        "collapsed": true
      },
      "execution_count": 66,
      "outputs": [
        {
          "output_type": "stream",
          "name": "stderr",
          "text": [
            "Warning message:\n",
            "“Setting row names on a tibble is deprecated.”\n",
            "Warning message:\n",
            "“Setting row names on a tibble is deprecated.”\n",
            "Warning message:\n",
            "“Setting row names on a tibble is deprecated.”\n",
            "Warning message:\n",
            "“Setting row names on a tibble is deprecated.”\n",
            "Warning message:\n",
            "“Setting row names on a tibble is deprecated.”\n",
            "Warning message:\n",
            "“Setting row names on a tibble is deprecated.”\n",
            "Warning message:\n",
            "“Setting row names on a tibble is deprecated.”\n",
            "Warning message:\n",
            "“Setting row names on a tibble is deprecated.”\n",
            "Warning message:\n",
            "“Setting row names on a tibble is deprecated.”\n",
            "Warning message:\n",
            "“Setting row names on a tibble is deprecated.”\n",
            "Warning message:\n",
            "“Setting row names on a tibble is deprecated.”\n",
            "Warning message:\n",
            "“Setting row names on a tibble is deprecated.”\n",
            "Warning message:\n",
            "“Setting row names on a tibble is deprecated.”\n",
            "Warning message:\n",
            "“Setting row names on a tibble is deprecated.”\n",
            "Warning message:\n",
            "“Setting row names on a tibble is deprecated.”\n",
            "Warning message:\n",
            "“Setting row names on a tibble is deprecated.”\n",
            "Warning message:\n",
            "“Setting row names on a tibble is deprecated.”\n",
            "Warning message:\n",
            "“Setting row names on a tibble is deprecated.”\n",
            "Warning message:\n",
            "“Setting row names on a tibble is deprecated.”\n",
            "Warning message:\n",
            "“Setting row names on a tibble is deprecated.”\n",
            "Warning message:\n",
            "“Setting row names on a tibble is deprecated.”\n",
            "Warning message:\n",
            "“Setting row names on a tibble is deprecated.”\n",
            "Warning message:\n",
            "“Setting row names on a tibble is deprecated.”\n",
            "Warning message:\n",
            "“Setting row names on a tibble is deprecated.”\n",
            "Warning message:\n",
            "“Setting row names on a tibble is deprecated.”\n",
            "Warning message:\n",
            "“Setting row names on a tibble is deprecated.”\n",
            "Warning message:\n",
            "“Setting row names on a tibble is deprecated.”\n",
            "Warning message:\n",
            "“Setting row names on a tibble is deprecated.”\n",
            "Warning message:\n",
            "“Setting row names on a tibble is deprecated.”\n",
            "Warning message:\n",
            "“Setting row names on a tibble is deprecated.”\n",
            "Warning message:\n",
            "“Setting row names on a tibble is deprecated.”\n",
            "Warning message:\n",
            "“Setting row names on a tibble is deprecated.”\n",
            "Warning message:\n",
            "“Setting row names on a tibble is deprecated.”\n",
            "Warning message:\n",
            "“Setting row names on a tibble is deprecated.”\n",
            "Warning message:\n",
            "“Setting row names on a tibble is deprecated.”\n",
            "Warning message:\n",
            "“Setting row names on a tibble is deprecated.”\n",
            "Warning message:\n",
            "“Setting row names on a tibble is deprecated.”\n",
            "Warning message:\n",
            "“Setting row names on a tibble is deprecated.”\n",
            "Warning message:\n",
            "“Setting row names on a tibble is deprecated.”\n",
            "Warning message:\n",
            "“Setting row names on a tibble is deprecated.”\n",
            "Warning message:\n",
            "“Setting row names on a tibble is deprecated.”\n",
            "Warning message:\n",
            "“Setting row names on a tibble is deprecated.”\n",
            "Warning message:\n",
            "“Setting row names on a tibble is deprecated.”\n",
            "Warning message:\n",
            "“Setting row names on a tibble is deprecated.”\n",
            "Warning message:\n",
            "“Setting row names on a tibble is deprecated.”\n",
            "Warning message:\n",
            "“Setting row names on a tibble is deprecated.”\n",
            "Warning message:\n",
            "“Setting row names on a tibble is deprecated.”\n",
            "Warning message:\n",
            "“Setting row names on a tibble is deprecated.”\n",
            "Warning message:\n",
            "“Setting row names on a tibble is deprecated.”\n",
            "Warning message:\n",
            "“Setting row names on a tibble is deprecated.”\n",
            "Warning message:\n",
            "“Setting row names on a tibble is deprecated.”\n",
            "Warning message:\n",
            "“Setting row names on a tibble is deprecated.”\n",
            "Warning message:\n",
            "“Setting row names on a tibble is deprecated.”\n",
            "Warning message:\n",
            "“Setting row names on a tibble is deprecated.”\n",
            "Warning message:\n",
            "“Setting row names on a tibble is deprecated.”\n",
            "Warning message:\n",
            "“Setting row names on a tibble is deprecated.”\n",
            "Warning message:\n",
            "“Setting row names on a tibble is deprecated.”\n",
            "Warning message:\n",
            "“Setting row names on a tibble is deprecated.”\n",
            "Warning message:\n",
            "“Setting row names on a tibble is deprecated.”\n",
            "Warning message:\n",
            "“Setting row names on a tibble is deprecated.”\n",
            "Warning message:\n",
            "“Setting row names on a tibble is deprecated.”\n",
            "Warning message:\n",
            "“Setting row names on a tibble is deprecated.”\n",
            "Warning message:\n",
            "“Setting row names on a tibble is deprecated.”\n",
            "Warning message:\n",
            "“Setting row names on a tibble is deprecated.”\n",
            "Warning message:\n",
            "“Setting row names on a tibble is deprecated.”\n",
            "Warning message:\n",
            "“Setting row names on a tibble is deprecated.”\n",
            "Warning message:\n",
            "“Setting row names on a tibble is deprecated.”\n",
            "Warning message:\n",
            "“Setting row names on a tibble is deprecated.”\n",
            "Warning message:\n",
            "“Setting row names on a tibble is deprecated.”\n",
            "Warning message:\n",
            "“Setting row names on a tibble is deprecated.”\n",
            "Warning message:\n",
            "“Setting row names on a tibble is deprecated.”\n",
            "Warning message:\n",
            "“Setting row names on a tibble is deprecated.”\n",
            "Warning message:\n",
            "“Setting row names on a tibble is deprecated.”\n",
            "Warning message:\n",
            "“Setting row names on a tibble is deprecated.”\n",
            "Warning message:\n",
            "“Setting row names on a tibble is deprecated.”\n",
            "Warning message:\n",
            "“Setting row names on a tibble is deprecated.”\n",
            "Warning message:\n",
            "“Setting row names on a tibble is deprecated.”\n",
            "Warning message:\n",
            "“Setting row names on a tibble is deprecated.”\n",
            "Warning message:\n",
            "“Setting row names on a tibble is deprecated.”\n",
            "Warning message:\n",
            "“Setting row names on a tibble is deprecated.”\n",
            "Warning message:\n",
            "“Setting row names on a tibble is deprecated.”\n",
            "Warning message:\n",
            "“Setting row names on a tibble is deprecated.”\n",
            "Warning message:\n",
            "“Setting row names on a tibble is deprecated.”\n",
            "Warning message:\n",
            "“Setting row names on a tibble is deprecated.”\n",
            "Warning message:\n",
            "“Setting row names on a tibble is deprecated.”\n",
            "Warning message:\n",
            "“Setting row names on a tibble is deprecated.”\n",
            "Warning message:\n",
            "“Setting row names on a tibble is deprecated.”\n",
            "Warning message:\n",
            "“Setting row names on a tibble is deprecated.”\n",
            "Warning message:\n",
            "“Setting row names on a tibble is deprecated.”\n",
            "Warning message:\n",
            "“Setting row names on a tibble is deprecated.”\n",
            "Warning message:\n",
            "“Setting row names on a tibble is deprecated.”\n",
            "Warning message:\n",
            "“Setting row names on a tibble is deprecated.”\n",
            "Warning message:\n",
            "“Setting row names on a tibble is deprecated.”\n",
            "Warning message:\n",
            "“Setting row names on a tibble is deprecated.”\n",
            "Warning message:\n",
            "“Setting row names on a tibble is deprecated.”\n",
            "Warning message:\n",
            "“Setting row names on a tibble is deprecated.”\n",
            "Warning message:\n",
            "“Setting row names on a tibble is deprecated.”\n",
            "Warning message:\n",
            "“Setting row names on a tibble is deprecated.”\n",
            "Warning message:\n",
            "“Setting row names on a tibble is deprecated.”\n",
            "Warning message:\n",
            "“Setting row names on a tibble is deprecated.”\n",
            "Warning message:\n",
            "“Setting row names on a tibble is deprecated.”\n",
            "Warning message:\n",
            "“Setting row names on a tibble is deprecated.”\n",
            "Warning message:\n",
            "“Setting row names on a tibble is deprecated.”\n",
            "Warning message:\n",
            "“Setting row names on a tibble is deprecated.”\n",
            "Warning message:\n",
            "“Setting row names on a tibble is deprecated.”\n",
            "Warning message:\n",
            "“Setting row names on a tibble is deprecated.”\n",
            "Warning message:\n",
            "“Setting row names on a tibble is deprecated.”\n",
            "Warning message:\n",
            "“Setting row names on a tibble is deprecated.”\n",
            "Warning message:\n",
            "“Setting row names on a tibble is deprecated.”\n",
            "Warning message:\n",
            "“Setting row names on a tibble is deprecated.”\n",
            "Warning message:\n",
            "“Setting row names on a tibble is deprecated.”\n",
            "Warning message:\n",
            "“Setting row names on a tibble is deprecated.”\n",
            "Warning message:\n",
            "“Setting row names on a tibble is deprecated.”\n",
            "Warning message:\n",
            "“Setting row names on a tibble is deprecated.”\n",
            "Warning message:\n",
            "“Setting row names on a tibble is deprecated.”\n",
            "Warning message:\n",
            "“Setting row names on a tibble is deprecated.”\n",
            "Warning message:\n",
            "“Setting row names on a tibble is deprecated.”\n",
            "Warning message:\n",
            "“Setting row names on a tibble is deprecated.”\n",
            "Warning message:\n",
            "“Setting row names on a tibble is deprecated.”\n",
            "Warning message:\n",
            "“Setting row names on a tibble is deprecated.”\n",
            "Warning message:\n",
            "“Setting row names on a tibble is deprecated.”\n",
            "Warning message:\n",
            "“Setting row names on a tibble is deprecated.”\n",
            "Warning message:\n",
            "“Setting row names on a tibble is deprecated.”\n",
            "Warning message:\n",
            "“Setting row names on a tibble is deprecated.”\n",
            "Warning message:\n",
            "“Setting row names on a tibble is deprecated.”\n",
            "Warning message:\n",
            "“Setting row names on a tibble is deprecated.”\n",
            "Warning message:\n",
            "“Setting row names on a tibble is deprecated.”\n",
            "Warning message:\n",
            "“Setting row names on a tibble is deprecated.”\n",
            "Warning message:\n",
            "“Setting row names on a tibble is deprecated.”\n",
            "Warning message:\n",
            "“Setting row names on a tibble is deprecated.”\n",
            "Warning message:\n",
            "“Setting row names on a tibble is deprecated.”\n",
            "Warning message:\n",
            "“Setting row names on a tibble is deprecated.”\n",
            "Warning message:\n",
            "“Setting row names on a tibble is deprecated.”\n",
            "Warning message:\n",
            "“Setting row names on a tibble is deprecated.”\n",
            "Warning message:\n",
            "“Setting row names on a tibble is deprecated.”\n",
            "Warning message:\n",
            "“Setting row names on a tibble is deprecated.”\n",
            "Warning message:\n",
            "“Setting row names on a tibble is deprecated.”\n",
            "Warning message:\n",
            "“Setting row names on a tibble is deprecated.”\n",
            "Warning message:\n",
            "“Setting row names on a tibble is deprecated.”\n",
            "Warning message:\n",
            "“Setting row names on a tibble is deprecated.”\n",
            "Warning message:\n",
            "“Setting row names on a tibble is deprecated.”\n",
            "Warning message:\n",
            "“Setting row names on a tibble is deprecated.”\n",
            "Warning message:\n",
            "“Setting row names on a tibble is deprecated.”\n",
            "Warning message:\n",
            "“Setting row names on a tibble is deprecated.”\n",
            "Warning message:\n",
            "“Setting row names on a tibble is deprecated.”\n",
            "Warning message:\n",
            "“Setting row names on a tibble is deprecated.”\n",
            "Warning message:\n",
            "“Setting row names on a tibble is deprecated.”\n",
            "Warning message:\n",
            "“Setting row names on a tibble is deprecated.”\n",
            "Warning message:\n",
            "“Setting row names on a tibble is deprecated.”\n",
            "Warning message:\n",
            "“Setting row names on a tibble is deprecated.”\n",
            "Warning message:\n",
            "“Setting row names on a tibble is deprecated.”\n",
            "Warning message:\n",
            "“Setting row names on a tibble is deprecated.”\n",
            "Warning message:\n",
            "“Setting row names on a tibble is deprecated.”\n",
            "Warning message:\n",
            "“Setting row names on a tibble is deprecated.”\n",
            "Warning message:\n",
            "“Setting row names on a tibble is deprecated.”\n",
            "Warning message:\n",
            "“Setting row names on a tibble is deprecated.”\n",
            "Warning message:\n",
            "“Setting row names on a tibble is deprecated.”\n",
            "Warning message:\n",
            "“Setting row names on a tibble is deprecated.”\n",
            "Warning message:\n",
            "“Setting row names on a tibble is deprecated.”\n",
            "Warning message:\n",
            "“Setting row names on a tibble is deprecated.”\n",
            "Warning message:\n",
            "“Setting row names on a tibble is deprecated.”\n"
          ]
        },
        {
          "output_type": "stream",
          "name": "stdout",
          "text": [
            "[1] \"Best K value: 8\"\n",
            "[1] \"KNN MAE: 0.68 minutes\"\n"
          ]
        }
      ]
    },
    {
      "cell_type": "markdown",
      "source": [
        "# Decision Trees (DT)\n",
        "*   DTs are versatile and interpretable models.\n",
        "*   They split the data based on features to create a tree-like structure.\n",
        "*   Features like `startTime`, `weekday`, and `distance` can be useful.\n",
        "*   Prune the tree to avoid overfitting.\n",
        "*   Evaluate the DT model using metrics like MAE or R-squared."
      ],
      "metadata": {
        "id": "_Pv_0mGgYWVT"
      }
    },
    {
      "cell_type": "code",
      "source": [
        "\n",
        "# Load necessary libraries\n",
        "library(randomForest)\n",
        "\n",
        "# Initialize Decision Tree regressor\n",
        "rf_model <- randomForest(target ~ ., data = features, ntree = 500)\n",
        "# Make predictions\n",
        "# Get feature importance\n",
        "# Make predictions on the validation set (you'll need a validation set for this)\n",
        "y_pred_dt <- predict(rf_model, newdata = X_val)\n",
        "\n",
        "# Evaluate performance (calculate Mean Absolute Error)\n",
        "mae_dt <- mae(y_val, y_pred_dt)\n",
        "print(paste(\"Decision Tree MAE:\", round(mae_dt, 2), \"minutes\"))\n",
        "\n"
      ],
      "metadata": {
        "colab": {
          "base_uri": "https://localhost:8080/"
        },
        "id": "HEmQ9lUGdAgV",
        "outputId": "37701c60-d163-416e-970b-8444b1657312"
      },
      "execution_count": 59,
      "outputs": [
        {
          "output_type": "stream",
          "name": "stdout",
          "text": [
            "[1] \"Decision Tree MAE: 0.6 minutes\"\n"
          ]
        }
      ]
    },
    {
      "cell_type": "markdown",
      "source": [
        "# Support Vector Machines (SVM)\n",
        "* SVM is a powerful algorithm for both classification and regression tasks.\n",
        "* It handles high-dimensional spaces and can capture non-linear patterns.\n",
        "\n",
        "Here’s a basic example of training an SVM regression model:"
      ],
      "metadata": {
        "id": "cVSEuri3eWb1"
      }
    },
    {
      "cell_type": "code",
      "source": [
        "\n",
        "# Load necessary libraries\n",
        "library(e1071)\n",
        "\n",
        "\n",
        "# Initialize Decision Tree regressor\n",
        "model <- svm(target ~ ., data = features, kernel = \"radial\")\n",
        "\n",
        "# Make predictions on the validation set (you'll need a validation set for this)\n",
        "y_pred_dt <- predict(model, newdata = X_val)\n",
        "\n",
        "# Evaluate performance (calculate Mean Absolute Error)\n",
        "mae_dt <- mae(y_val, y_pred_dt)\n",
        "print(paste(\"SVM MAE:\", round(mae_dt, 2), \"minutes\"))\n",
        "\n"
      ],
      "metadata": {
        "colab": {
          "base_uri": "https://localhost:8080/"
        },
        "id": "fId1oUEJeBq4",
        "outputId": "d046bab3-9526-4273-8132-7ddf79427c9d"
      },
      "execution_count": 60,
      "outputs": [
        {
          "output_type": "stream",
          "name": "stdout",
          "text": [
            "[1] \"SVM MAE: 0.7 minutes\"\n"
          ]
        }
      ]
    },
    {
      "cell_type": "markdown",
      "source": [
        "# Neural Networks (Package: keras)\n",
        "*   Neural networks can capture complex patterns in data.\n",
        "*   Install the keras package: install.packages(\"keras\").\n",
        "\n",
        "Here’s a basic example of a feedforward neural network:"
      ],
      "metadata": {
        "id": "6ez5bww1kkLU"
      }
    },
    {
      "cell_type": "code",
      "source": [
        "library(keras)\n",
        "\n",
        "# Create a simple neural network\n",
        "model <- keras_model_sequential() %>%\n",
        "  layer_dense(units = 64, activation = \"relu\", input_shape = 2) %>%\n",
        "  layer_dense(units = 1)  # Regression task\n",
        "\n",
        "# Compile the model\n",
        "model %>% compile(\n",
        "  optimizer = \"adam\",\n",
        "  loss = \"mean_squared_error\",\n",
        "  metrics = c(\"mae\")\n",
        ")\n",
        "\n",
        "# Train the model\n",
        "model %>% fit(as.matrix(X_train), as.vector(y_train), epochs = 55, batch_size = 32)\n",
        "\n",
        "\n",
        "# Make predictions on the validation set\n",
        "y_pred_dt <- predict(model, x = as.matrix(X_val))\n",
        "\n",
        "# Evaluate performance (calculate Mean Absolute Error)\n",
        "mae_dt <- mae(as.vector(y_val), y_pred_dt)\n",
        "print(paste(\"SVM MAE:\", round(mae_dt, 2), \"minutes\"))"
      ],
      "metadata": {
        "colab": {
          "base_uri": "https://localhost:8080/"
        },
        "id": "LTgTEdbMeju1",
        "outputId": "8cb03529-d441-4a65-bcf2-d03a44742f97"
      },
      "execution_count": 61,
      "outputs": [
        {
          "output_type": "stream",
          "name": "stdout",
          "text": [
            "[1] \"SVM MAE: 0.8 minutes\"\n"
          ]
        }
      ]
    }
  ]
}